{
 "cells": [
  {
   "cell_type": "code",
   "execution_count": 9,
   "id": "7f21b4b0",
   "metadata": {},
   "outputs": [
    {
     "name": "stdout",
     "output_type": "stream",
     "text": [
      "The autoreload extension is already loaded. To reload it, use:\n",
      "  %reload_ext autoreload\n"
     ]
    }
   ],
   "source": [
    "%load_ext autoreload\n",
    "%autoreload 2\n",
    "\n",
    "import sys, os\n",
    "src_path = os.path.join(os.getcwd(), \"src\")\n",
    "if src_path not in sys.path:\n",
    "    sys.path.insert(0, src_path)\n"
   ]
  },
  {
   "cell_type": "code",
   "execution_count": 10,
   "id": "d0f7a108",
   "metadata": {},
   "outputs": [],
   "source": [
    "import numpy as np\n",
    "import pandas as pd\n",
    "import matplotlib.pyplot as plt"
   ]
  },
  {
   "cell_type": "code",
   "execution_count": 11,
   "id": "e1204186",
   "metadata": {},
   "outputs": [],
   "source": [
    "\n",
    "from src.utils import Utils\n",
    "from src.fastbdt import train_fastbdt\n",
    "from src.dts import train_decision_tree, train_random_forest\n",
    "from src.xgb_model import train_xgboost\n",
    "from src.nn import train_neural_network"
   ]
  },
  {
   "cell_type": "markdown",
   "id": "96b9f9c3",
   "metadata": {},
   "source": [
    "# Decision Trees"
   ]
  },
  {
   "cell_type": "code",
   "execution_count": 12,
   "id": "9ac46ab9",
   "metadata": {},
   "outputs": [
    {
     "name": "stdout",
     "output_type": "stream",
     "text": [
      "\n",
      "Decision Tree - Total features: 59\n",
      "Decision Tree - Reduced features (importance >= 0.01): 14\n",
      "Saved Decision Tree model to models/decision_tree_model.pkl\n"
     ]
    }
   ],
   "source": [
    "dt_results = train_decision_tree(\n",
    "    data = Utils.data_import('data/data_hep - data_hep.csv')\n",
    ")"
   ]
  },
  {
   "cell_type": "code",
   "execution_count": 13,
   "id": "fe5d8643",
   "metadata": {},
   "outputs": [
    {
     "data": {
      "text/plain": [
       "0.7922764611462563"
      ]
     },
     "execution_count": 13,
     "metadata": {},
     "output_type": "execute_result"
    }
   ],
   "source": [
    "dt_results['accuracy']"
   ]
  },
  {
   "cell_type": "markdown",
   "id": "7a572522",
   "metadata": {},
   "source": [
    "# Random Forest"
   ]
  },
  {
   "cell_type": "code",
   "execution_count": 14,
   "id": "d4f26101",
   "metadata": {},
   "outputs": [
    {
     "name": "stdout",
     "output_type": "stream",
     "text": [
      "\n",
      "Random Forest - Total features: 59\n",
      "Random Forest - Reduced features (importance >= 0.01): 29\n",
      "Saved Random Forest model to models/random_forest_model.pkl\n"
     ]
    }
   ],
   "source": [
    "rf_results = train_random_forest(\n",
    "    data = Utils.data_import('data/data_hep - data_hep.csv')\n",
    ")"
   ]
  },
  {
   "cell_type": "code",
   "execution_count": 15,
   "id": "c95ed3bb",
   "metadata": {},
   "outputs": [
    {
     "data": {
      "text/plain": [
       "0.8589840430554244"
      ]
     },
     "execution_count": 15,
     "metadata": {},
     "output_type": "execute_result"
    }
   ],
   "source": [
    "rf_results['accuracy']"
   ]
  },
  {
   "cell_type": "markdown",
   "id": "b3140cba",
   "metadata": {},
   "source": [
    "# XGBoost"
   ]
  },
  {
   "cell_type": "code",
   "execution_count": 16,
   "id": "22c9df5c",
   "metadata": {},
   "outputs": [
    {
     "name": "stderr",
     "output_type": "stream",
     "text": [
      "/home/ardo/HCP_Belle_Cllassification/venv/lib/python3.12/site-packages/xgboost/callback.py:386: UserWarning: [15:56:57] WARNING: /workspace/src/context.cc:62: Only 1 GPUs are visible, setting device ordinal to 0\n",
      "  self.starting_round = model.num_boosted_rounds()\n"
     ]
    }
   ],
   "source": [
    "xgb_results = train_xgboost(\n",
    "    data = Utils.data_import('data/data_hep - data_hep.csv')\n",
    ")"
   ]
  },
  {
   "cell_type": "code",
   "execution_count": 17,
   "id": "4b7b9e67",
   "metadata": {},
   "outputs": [
    {
     "data": {
      "text/plain": [
       "0.8768765933339628"
      ]
     },
     "execution_count": 17,
     "metadata": {},
     "output_type": "execute_result"
    }
   ],
   "source": [
    "xgb_results['accuracy']"
   ]
  },
  {
   "cell_type": "markdown",
   "id": "c81d05f4",
   "metadata": {},
   "source": [
    "# FastBDT"
   ]
  },
  {
   "cell_type": "code",
   "execution_count": 18,
   "id": "355b1e20",
   "metadata": {},
   "outputs": [],
   "source": [
    "fbdt_results = train_fastbdt(\n",
    "    data = Utils.data_import('data/data_hep - data_hep.csv'),\n",
    "    nTrees = 400,\n",
    "    depth = 6,\n",
    "    shrinkage = 0.1,\n",
    "    subsample = 0.5,\n",
    "    binning=None\n",
    ")"
   ]
  },
  {
   "cell_type": "code",
   "execution_count": 19,
   "id": "85350bc8",
   "metadata": {},
   "outputs": [
    {
     "data": {
      "text/plain": [
       "0.8777735813426494"
      ]
     },
     "execution_count": 19,
     "metadata": {},
     "output_type": "execute_result"
    }
   ],
   "source": [
    "fbdt_results['accuracy']"
   ]
  },
  {
   "cell_type": "code",
   "execution_count": 20,
   "id": "d08a1361",
   "metadata": {},
   "outputs": [],
   "source": [
    "nTrees = [100, 200, 400, 800]\n",
    "depth = [3, 5, 7]\n",
    "shrinkage = [0.05, 0.1, 0.2]\n",
    "subsample = [0.5, 0.7, 1.0]\n",
    "binning = [6, 8, 10]\n",
    "\n"
   ]
  },
  {
   "cell_type": "code",
   "execution_count": 39,
   "id": "cdd17902",
   "metadata": {},
   "outputs": [],
   "source": [
    "features = [dt_results['reduced_features'],\n",
    "            rf_results['reduced_features'],\n",
    "            xgb_results['reduced_features'],\n",
    "            fbdt_results['reduced_features']]\n",
    "\n",
    "df = Utils.data_import('data/data_hep - data_hep.csv')\n",
    "\n",
    "reduced_features = features[2] + ['index', 'type']\n",
    "reduced_df = df[reduced_features]\n"
   ]
  },
  {
   "cell_type": "code",
   "execution_count": 41,
   "id": "d3f845f5",
   "metadata": {},
   "outputs": [
    {
     "name": "stderr",
     "output_type": "stream",
     "text": [
      "/home/ardo/HCP_Belle_Cllassification/src/utils.py:33: SettingWithCopyWarning: \n",
      "A value is trying to be set on a copy of a slice from a DataFrame.\n",
      "Try using .loc[row_indexer,col_indexer] = value instead\n",
      "\n",
      "See the caveats in the documentation: https://pandas.pydata.org/pandas-docs/stable/user_guide/indexing.html#returning-a-view-versus-a-copy\n",
      "  df['is_signal'] = df['type'].isin([0, 1]).astype(int)\n",
      "/home/ardo/HCP_Belle_Cllassification/venv/lib/python3.12/site-packages/xgboost/callback.py:386: UserWarning: [16:18:33] WARNING: /workspace/src/context.cc:62: Only 1 GPUs are visible, setting device ordinal to 0\n",
      "  self.starting_round = model.num_boosted_rounds()\n"
     ]
    },
    {
     "data": {
      "text/plain": [
       "0.8769710131243509"
      ]
     },
     "execution_count": 41,
     "metadata": {},
     "output_type": "execute_result"
    }
   ],
   "source": [
    "xgb_results_red = train_xgboost(\n",
    "    data = reduced_df\n",
    ")\n",
    "\n",
    "xgb_results_red['accuracy']"
   ]
  },
  {
   "cell_type": "code",
   "execution_count": 44,
   "id": "464d5098",
   "metadata": {},
   "outputs": [
    {
     "name": "stderr",
     "output_type": "stream",
     "text": [
      "/home/ardo/HCP_Belle_Cllassification/src/utils.py:33: SettingWithCopyWarning: \n",
      "A value is trying to be set on a copy of a slice from a DataFrame.\n",
      "Try using .loc[row_indexer,col_indexer] = value instead\n",
      "\n",
      "See the caveats in the documentation: https://pandas.pydata.org/pandas-docs/stable/user_guide/indexing.html#returning-a-view-versus-a-copy\n",
      "  df['is_signal'] = df['type'].isin([0, 1]).astype(int)\n"
     ]
    },
    {
     "data": {
      "text/plain": [
       "0.8773959021810972"
      ]
     },
     "execution_count": 44,
     "metadata": {},
     "output_type": "execute_result"
    }
   ],
   "source": [
    "fastbdt_results_red = train_fastbdt(\n",
    "    data = reduced_df,\n",
    "    nTrees = 400,\n",
    "    depth = 6,\n",
    "    shrinkage = 0.1,\n",
    "    subsample = 0.5,\n",
    "    binning=None\n",
    ")\n",
    "fastbdt_results_red['accuracy']"
   ]
  },
  {
   "cell_type": "code",
   "execution_count": 42,
   "id": "e00434de",
   "metadata": {},
   "outputs": [
    {
     "data": {
      "text/plain": [
       "41"
      ]
     },
     "execution_count": 42,
     "metadata": {},
     "output_type": "execute_result"
    }
   ],
   "source": [
    "len(xgb_results_red['reduced_features'])"
   ]
  },
  {
   "cell_type": "code",
   "execution_count": 43,
   "id": "bf076e65",
   "metadata": {},
   "outputs": [
    {
     "data": {
      "text/plain": [
       "41"
      ]
     },
     "execution_count": 43,
     "metadata": {},
     "output_type": "execute_result"
    }
   ],
   "source": [
    "len(xgb_results['reduced_features'])"
   ]
  },
  {
   "cell_type": "markdown",
   "id": "3da211c0",
   "metadata": {},
   "source": [
    "### Compare ROC"
   ]
  },
  {
   "cell_type": "code",
   "execution_count": 35,
   "id": "e570ffa8",
   "metadata": {},
   "outputs": [
    {
     "name": "stdout",
     "output_type": "stream",
     "text": [
      "Model: Decision Tree | Area Under ROC Curve (AUC): 0.7923\n",
      "Model: Random Forest | Area Under ROC Curve (AUC): 0.9318\n",
      "Model: XGBoost | Area Under ROC Curve (AUC): 0.9492\n",
      "Model: FastBDT | Area Under ROC Curve (AUC): 0.9474\n",
      "\n",
      "Generating ROC curve comparison plot...\n",
      "Plot saved as 'plots/roc_comparison.png'\n"
     ]
    },
    {
     "data": {
      "image/png": "[encoded data removed]",
      "text/plain": [
       "<Figure size 800x600 with 1 Axes>"
      ]
     },
     "metadata": {},
     "output_type": "display_data"
    }
   ],
   "source": [
    "dt_roc = dt_results['roc_curve']\n",
    "rf_roc = rf_results['roc_curve']\n",
    "xgb_roc = xgb_results['roc_curve']\n",
    "fbdt_roc = fbdt_results['roc_curve']\n",
    "\n",
    "\n",
    "Utils.plot_roc_comparison(\n",
    "    [('Decision Tree', dt_roc),\n",
    "     ('Random Forest', rf_roc),\n",
    "     ('XGBoost', xgb_roc),\n",
    "     ('FastBDT', fbdt_roc)],\n",
    "    plotname='roc_comparison.png'\n",
    ")"
   ]
  },
  {
   "cell_type": "markdown",
   "id": "3eb1ed17",
   "metadata": {},
   "source": [
    "## NN\n"
   ]
  },
  {
   "cell_type": "code",
   "execution_count": 36,
   "id": "5bdf4d50",
   "metadata": {},
   "outputs": [
    {
     "name": "stdout",
     "output_type": "stream",
     "text": [
      "Model saved to 'models/neural_network_model.pt'\n"
     ]
    }
   ],
   "source": [
    "nn_results = train_neural_network(\n",
    "    Utils.data_import('data/data_hep - data_hep.csv'),\n",
    "    epochs=50\n",
    ")"
   ]
  },
  {
   "cell_type": "code",
   "execution_count": 37,
   "id": "84d61fe1",
   "metadata": {},
   "outputs": [
    {
     "data": {
      "text/plain": [
       "0.8722500236049476"
      ]
     },
     "execution_count": 37,
     "metadata": {},
     "output_type": "execute_result"
    }
   ],
   "source": [
    "nn_results['accuracy']"
   ]
  },
  {
   "cell_type": "code",
   "execution_count": 38,
   "id": "9c83a31f",
   "metadata": {},
   "outputs": [
    {
     "ename": "ModuleNotFoundError",
     "evalue": "No module named 'src.tabnet_wrapper'",
     "output_type": "error",
     "traceback": [
      "\u001b[31m---------------------------------------------------------------------------\u001b[39m",
      "\u001b[31mModuleNotFoundError\u001b[39m                       Traceback (most recent call last)",
      "\u001b[36mCell\u001b[39m\u001b[36m \u001b[39m\u001b[32mIn[38]\u001b[39m\u001b[32m, line 15\u001b[39m\n\u001b[32m     12\u001b[39m \u001b[38;5;28;01mimport\u001b[39;00m\u001b[38;5;250m \u001b[39m\u001b[34;01mos\u001b[39;00m\n\u001b[32m     14\u001b[39m \u001b[38;5;28;01mfrom\u001b[39;00m\u001b[38;5;250m \u001b[39m\u001b[34;01msrc\u001b[39;00m\u001b[34;01m.\u001b[39;00m\u001b[34;01mutils\u001b[39;00m\u001b[38;5;250m \u001b[39m\u001b[38;5;28;01mimport\u001b[39;00m Utils\n\u001b[32m---> \u001b[39m\u001b[32m15\u001b[39m \u001b[38;5;28;01mfrom\u001b[39;00m\u001b[38;5;250m \u001b[39m\u001b[34;01msrc\u001b[39;00m\u001b[34;01m.\u001b[39;00m\u001b[34;01mtabnet_wrapper\u001b[39;00m\u001b[38;5;250m \u001b[39m\u001b[38;5;28;01mimport\u001b[39;00m TabNetClassifier\n\u001b[32m     16\u001b[39m \u001b[38;5;28;01mfrom\u001b[39;00m\u001b[38;5;250m \u001b[39m\u001b[34;01mPyFastBDT\u001b[39;00m\u001b[38;5;250m \u001b[39m\u001b[38;5;28;01mimport\u001b[39;00m FastBDT\n\u001b[32m     19\u001b[39m \u001b[38;5;28;01mdef\u001b[39;00m\u001b[38;5;250m \u001b[39m\u001b[34mcompare_tabnet_and_fastbdt\u001b[39m(data_path=\u001b[33m'\u001b[39m\u001b[33mdata/data_hep - data_hep.csv\u001b[39m\u001b[33m'\u001b[39m, \n\u001b[32m     20\u001b[39m                                plot_dir=\u001b[33m'\u001b[39m\u001b[33mplots\u001b[39m\u001b[33m'\u001b[39m,\n\u001b[32m     21\u001b[39m                                load_tabnet_model=\u001b[38;5;28;01mNone\u001b[39;00m):\n",
      "\u001b[31mModuleNotFoundError\u001b[39m: No module named 'src.tabnet_wrapper'"
     ]
    }
   ],
   "source": [
    "\"\"\"\n",
    "Model Comparison Script\n",
    "Compares TabNet and FastBDT models side-by-side\n",
    "Plots ROC curves together for direct comparison\n",
    "\"\"\"\n",
    "\n",
    "import pandas as pd\n",
    "import numpy as np\n",
    "import matplotlib.pyplot as plt\n",
    "import seaborn as sns\n",
    "from sklearn.metrics import roc_curve, auc, accuracy_score, roc_auc_score, classification_report\n",
    "import os\n",
    "\n",
    "from src.utils import Utils\n",
    "from src.tabnet_wrapper import TabNetClassifier\n",
    "from PyFastBDT import FastBDT\n",
    "\n",
    "\n",
    "def compare_tabnet_and_fastbdt(data_path='data/data_hep - data_hep.csv', \n",
    "                               plot_dir='plots',\n",
    "                               load_tabnet_model=None):\n",
    "    \"\"\"\n",
    "    Train and compare TabNet and FastBDT models\n",
    "    \n",
    "    Args:\n",
    "        data_path: Path to the data file\n",
    "        plot_dir: Directory to save comparison plots\n",
    "        load_tabnet_model: Path to pre-trained TabNet model (optional)\n",
    "    \"\"\"\n",
    "    print(\"=\"*80)\n",
    "    print(\"MODEL COMPARISON: TabNet vs FastBDT\")\n",
    "    print(\"=\"*80)\n",
    "    \n",
    "    os.makedirs(plot_dir, exist_ok=True)\n",
    "    \n",
    "    # Load data\n",
    "    print(\"\\n[1/5] Loading and preparing data...\")\n",
    "    df = Utils.data_import(data_path)\n",
    "    X, y = Utils.bin_classification(df)\n",
    "    \n",
    "    print(f\"Dataset shape: {X.shape}\")\n",
    "    print(f\"Signal distribution: {y.value_counts().to_dict()}\")\n",
    "    \n",
    "    # Split data - CONVERT TO NUMPY ARRAYS\n",
    "    X_train, X_test, y_train, y_test = Utils.data_split(X, y, ratio=0.3)\n",
    "    \n",
    "    # Convert to numpy arrays to avoid pandas Series issues\n",
    "    X_train = X_train.values if hasattr(X_train, 'values') else X_train\n",
    "    X_test = X_test.values if hasattr(X_test, 'values') else X_test\n",
    "    y_train = y_train.values if hasattr(y_train, 'values') else y_train\n",
    "    y_test = y_test.values if hasattr(y_test, 'values') else y_test\n",
    "    \n",
    "    # Create validation split from training data\n",
    "    from sklearn.model_selection import train_test_split\n",
    "    X_train_tabnet, X_val_tabnet, y_train_tabnet, y_val_tabnet = train_test_split(\n",
    "        X_train, y_train, test_size=0.2, random_state=42, stratify=y_train\n",
    "    )\n",
    "    \n",
    "    print(f\"Training set: {len(X_train)} samples\")\n",
    "    print(f\"  - TabNet Training: {len(X_train_tabnet)} samples\")\n",
    "    print(f\"  - TabNet Validation: {len(X_val_tabnet)} samples\")\n",
    "    print(f\"Test set: {len(X_test)} samples\")\n",
    "    \n",
    "    # ========================\n",
    "    # Train TabNet\n",
    "    # ========================\n",
    "    print(\"\\n[2/5] Training TabNet...\")\n",
    "    print(\"-\" * 80)\n",
    "    \n",
    "    tabnet_clf = TabNetClassifier(\n",
    "        n_d=64,\n",
    "        n_a=64,\n",
    "        n_steps=5,\n",
    "        gamma=1.5,\n",
    "        learning_rate=2e-2,\n",
    "        batch_size=256,\n",
    "        virtual_batch_size=128,\n",
    "        max_epochs=50,\n",
    "        patience=10\n",
    "    )\n",
    "    \n",
    "    tabnet_clf.fit(X_train_tabnet, y_train_tabnet, X_val_tabnet, y_val_tabnet, verbose=True)\n",
    "    \n",
    "    # TabNet Predictions\n",
    "    y_pred_tabnet_proba = tabnet_clf.predict_proba(X_test)\n",
    "    y_pred_tabnet = (y_pred_tabnet_proba > 0.5).astype(int)\n",
    "    \n",
    "    # TabNet Metrics\n",
    "    tabnet_accuracy = accuracy_score(y_test, y_pred_tabnet)\n",
    "    tabnet_auc = roc_auc_score(y_test, y_pred_tabnet_proba)\n",
    "    fpr_tabnet, tpr_tabnet, _ = roc_curve(y_test, y_pred_tabnet_proba)\n",
    "    \n",
    "    print(f\"\\n✓ TabNet Results:\")\n",
    "    print(f\"  Accuracy: {tabnet_accuracy:.4f}\")\n",
    "    print(f\"  ROC AUC:  {tabnet_auc:.4f}\")\n",
    "    \n",
    "    # ========================\n",
    "    # Train FastBDT\n",
    "    # ========================\n",
    "    print(\"\\n[3/5] Training FastBDT...\")\n",
    "    print(\"-\" * 80)\n",
    "    \n",
    "    bdt = FastBDT.Classifier()\n",
    "    bdt.fit(X_train, y_train)\n",
    "    \n",
    "    # FastBDT Predictions\n",
    "    y_pred_bdt_scores = bdt.predict(X_test)\n",
    "    y_pred_bdt = (y_pred_bdt_scores > 0.5).astype(int)\n",
    "    \n",
    "    # FastBDT Metrics\n",
    "    bdt_accuracy = accuracy_score(y_test, y_pred_bdt)\n",
    "    bdt_auc = roc_auc_score(y_test, y_pred_bdt_scores)\n",
    "    fpr_bdt, tpr_bdt, _ = roc_curve(y_test, y_pred_bdt_scores)\n",
    "    \n",
    "    print(f\"\\n✓ FastBDT Results:\")\n",
    "    print(f\"  Accuracy: {bdt_accuracy:.4f}\")\n",
    "    print(f\"  ROC AUC:  {bdt_auc:.4f}\")\n",
    "    \n",
    "    # ========================\n",
    "    # Comparison Summary\n",
    "    # ========================\n",
    "    print(\"\\n[4/5] Model Comparison Summary\")\n",
    "    print(\"=\"*80)\n",
    "    \n",
    "    comparison_df = pd.DataFrame({\n",
    "        'Model': ['TabNet', 'FastBDT', 'Difference (TabNet - BDT)'],\n",
    "        'Accuracy': [tabnet_accuracy, bdt_accuracy, tabnet_accuracy - bdt_accuracy],\n",
    "        'ROC AUC': [tabnet_auc, bdt_auc, tabnet_auc - bdt_auc]\n",
    "    })\n",
    "    \n",
    "    print(\"\\n\" + comparison_df.to_string(index=False))\n",
    "    \n",
    "    # Determine winner\n",
    "    print(\"\\n\" + \"-\"*80)\n",
    "    if tabnet_auc > bdt_auc:\n",
    "        print(f\"🏆 TabNet performs better by {(tabnet_auc - bdt_auc):.4f} AUC points\")\n",
    "    elif bdt_auc > tabnet_auc:\n",
    "        print(f\"🏆 FastBDT performs better by {(bdt_auc - tabnet_auc):.4f} AUC points\")\n",
    "    else:\n",
    "        print(\"🤝 Both models perform equally well\")\n",
    "    \n",
    "    # Statistical significance (rough check)\n",
    "    diff = abs(tabnet_auc - bdt_auc)\n",
    "    if diff < 0.01:\n",
    "        print(\"   (Difference is negligible - models perform similarly)\")\n",
    "    elif diff < 0.03:\n",
    "        print(\"   (Difference is small but noticeable)\")\n",
    "    elif diff < 0.05:\n",
    "        print(\"   (Difference is moderate)\")\n",
    "    else:\n",
    "        print(\"   (Difference is substantial)\")\n",
    "    \n",
    "    # ========================\n",
    "    # Plot Combined ROC Curve\n",
    "    # ========================\n",
    "    print(\"\\n[5/5] Generating comparison plots...\")\n",
    "    print(\"-\" * 80)\n",
    "    \n",
    "    # Plot 1: Combined ROC Curve\n",
    "    plt.figure(figsize=(10, 8))\n",
    "    \n",
    "    # TabNet ROC\n",
    "    plt.plot(fpr_tabnet, tpr_tabnet, color='purple', lw=2.5, \n",
    "             label=f'TabNet (AUC = {tabnet_auc:.4f})')\n",
    "    \n",
    "    # FastBDT ROC\n",
    "    plt.plot(fpr_bdt, tpr_bdt, color='green', lw=2.5, \n",
    "             label=f'FastBDT (AUC = {bdt_auc:.4f})')\n",
    "    \n",
    "    # Random classifier baseline\n",
    "    plt.plot([0, 1], [0, 1], color='red', lw=2, linestyle='--', \n",
    "             label='Random Classifier (AUC = 0.5000)')\n",
    "    \n",
    "    plt.xlim([0.0, 1.0])\n",
    "    plt.ylim([0.0, 1.05])\n",
    "    plt.xlabel('False Positive Rate (Background Efficiency)', fontsize=12)\n",
    "    plt.ylabel('True Positive Rate (Signal Efficiency)', fontsize=12)\n",
    "    plt.title('ROC Curve Comparison: TabNet vs FastBDT', fontsize=14, fontweight='bold')\n",
    "    plt.legend(loc=\"lower right\", fontsize=11)\n",
    "    plt.grid(alpha=0.3)\n",
    "    \n",
    "    roc_comparison_path = os.path.join(plot_dir, 'roc_comparison_tabnet_vs_fastbdt.png')\n",
    "    plt.savefig(roc_comparison_path, dpi=150, bbox_inches='tight')\n",
    "    print(f\"✓ Combined ROC curve saved to '{roc_comparison_path}'\")\n",
    "    plt.close()\n",
    "    \n",
    "    # Plot 2: Side-by-side Metric Comparison\n",
    "    fig, axes = plt.subplots(1, 2, figsize=(14, 6))\n",
    "    \n",
    "    # Accuracy comparison\n",
    "    models = ['TabNet', 'FastBDT']\n",
    "    accuracies = [tabnet_accuracy, bdt_accuracy]\n",
    "    colors = ['purple', 'green']\n",
    "    \n",
    "    bars1 = axes[0].bar(models, accuracies, color=colors, alpha=0.7, edgecolor='black', linewidth=1.5)\n",
    "    axes[0].set_ylabel('Accuracy', fontsize=12)\n",
    "    axes[0].set_title('Accuracy Comparison', fontsize=14, fontweight='bold')\n",
    "    axes[0].set_ylim([0, 1])\n",
    "    axes[0].grid(axis='y', alpha=0.3)\n",
    "    \n",
    "    # Add value labels on bars\n",
    "    for bar, acc in zip(bars1, accuracies):\n",
    "        height = bar.get_height()\n",
    "        axes[0].text(bar.get_x() + bar.get_width()/2., height,\n",
    "                    f'{acc:.4f}',\n",
    "                    ha='center', va='bottom', fontsize=11, fontweight='bold')\n",
    "    \n",
    "    # ROC AUC comparison\n",
    "    aucs = [tabnet_auc, bdt_auc]\n",
    "    bars2 = axes[1].bar(models, aucs, color=colors, alpha=0.7, edgecolor='black', linewidth=1.5)\n",
    "    axes[1].set_ylabel('ROC AUC Score', fontsize=12)\n",
    "    axes[1].set_title('ROC AUC Comparison', fontsize=14, fontweight='bold')\n",
    "    axes[1].set_ylim([0, 1])\n",
    "    axes[1].grid(axis='y', alpha=0.3)\n",
    "    \n",
    "    # Add value labels on bars\n",
    "    for bar, auc_val in zip(bars2, aucs):\n",
    "        height = bar.get_height()\n",
    "        axes[1].text(bar.get_x() + bar.get_width()/2., height,\n",
    "                    f'{auc_val:.4f}',\n",
    "                    ha='center', va='bottom', fontsize=11, fontweight='bold')\n",
    "    \n",
    "    plt.tight_layout()\n",
    "    metrics_comparison_path = os.path.join(plot_dir, 'metrics_comparison_tabnet_vs_fastbdt.png')\n",
    "    plt.savefig(metrics_comparison_path, dpi=150, bbox_inches='tight')\n",
    "    print(f\"✓ Metrics comparison saved to '{metrics_comparison_path}'\")\n",
    "    plt.close()\n",
    "    \n",
    "    # Plot 3: Classification Reports Comparison\n",
    "    print(\"\\n\" + \"=\"*80)\n",
    "    print(\"DETAILED CLASSIFICATION REPORTS\")\n",
    "    print(\"=\"*80)\n",
    "    \n",
    "    print(\"\\nTabNet Classification Report:\")\n",
    "    print(\"-\" * 80)\n",
    "    print(classification_report(y_test, y_pred_tabnet, \n",
    "                               target_names=['Signal', 'Background'],\n",
    "                               digits=4))\n",
    "    \n",
    "    print(\"\\nFastBDT Classification Report:\")\n",
    "    print(\"-\" * 80)\n",
    "    print(classification_report(y_test, y_pred_bdt,\n",
    "                               target_names=['Signal', 'Background'],\n",
    "                               digits=4))\n",
    "    \n",
    "    # Plot 4: Signal Efficiency at Different Working Points\n",
    "    plt.figure(figsize=(10, 6))\n",
    "    \n",
    "    # Find signal efficiencies at specific background rejection rates\n",
    "    working_points = [0.5, 0.7, 0.8, 0.9, 0.95]\n",
    "    \n",
    "    for fpr_arr, tpr_arr, label, color in [(fpr_tabnet, tpr_tabnet, 'TabNet', 'purple'),\n",
    "                                             (fpr_bdt, tpr_bdt, 'FastBDT', 'green')]:\n",
    "        signal_effs = []\n",
    "        for bg_rej in working_points:\n",
    "            target_fpr = 1 - bg_rej\n",
    "            idx = np.argmin(np.abs(fpr_arr - target_fpr))\n",
    "            signal_effs.append(tpr_arr[idx])\n",
    "        \n",
    "        plt.plot([f'{int(wp*100)}%' for wp in working_points], signal_effs, \n",
    "                marker='o', markersize=8, linewidth=2, label=label, color=color)\n",
    "    \n",
    "    plt.xlabel('Background Rejection Rate', fontsize=12)\n",
    "    plt.ylabel('Signal Efficiency', fontsize=12)\n",
    "    plt.title('Signal Efficiency at Different Background Rejection Rates', fontsize=14, fontweight='bold')\n",
    "    plt.legend(fontsize=11)\n",
    "    plt.grid(alpha=0.3)\n",
    "    plt.ylim([0, 1])\n",
    "    \n",
    "    working_points_path = os.path.join(plot_dir, 'working_points_comparison.png')\n",
    "    plt.savefig(working_points_path, dpi=150, bbox_inches='tight')\n",
    "    print(f\"✓ Working points comparison saved to '{working_points_path}'\")\n",
    "    plt.close()\n",
    "    \n",
    "    print(\"\\n\" + \"=\"*80)\n",
    "    print(\"COMPARISON COMPLETE!\")\n",
    "    print(\"=\"*80)\n",
    "    print(f\"\\nAll plots saved to '{plot_dir}/' directory:\")\n",
    "    print(f\"  1. {roc_comparison_path}\")\n",
    "    print(f\"  2. {metrics_comparison_path}\")\n",
    "    print(f\"  3. {working_points_path}\")\n",
    "    \n",
    "    return {\n",
    "        'tabnet': {\n",
    "            'accuracy': tabnet_accuracy,\n",
    "            'roc_auc': tabnet_auc,\n",
    "            'fpr': fpr_tabnet,\n",
    "            'tpr': tpr_tabnet,\n",
    "            'predictions': y_pred_tabnet,\n",
    "            'probabilities': y_pred_tabnet_proba,\n",
    "            'model': tabnet_clf\n",
    "        },\n",
    "        'fastbdt': {\n",
    "            'accuracy': bdt_accuracy,\n",
    "            'roc_auc': bdt_auc,\n",
    "            'fpr': fpr_bdt,\n",
    "            'tpr': tpr_bdt,\n",
    "            'predictions': y_pred_bdt,\n",
    "            'probabilities': y_pred_bdt_scores,\n",
    "            'model': bdt\n",
    "        },\n",
    "        'comparison': comparison_df\n",
    "    }"
   ]
  },
  {
   "cell_type": "code",
   "execution_count": null,
   "id": "26409db0",
   "metadata": {},
   "outputs": [
    {
     "name": "stdout",
     "output_type": "stream",
     "text": [
      "================================================================================\n",
      "MODEL COMPARISON: TabNet vs FastBDT\n",
      "================================================================================\n",
      "\n",
      "[1/5] Loading and preparing data...\n",
      "Dataset shape: (70606, 59)\n",
      "Signal distribution: {1: 35765, 0: 34841}\n",
      "Training set: 49424 samples\n",
      "  - TabNet Training: 39539 samples\n",
      "  - TabNet Validation: 9885 samples\n",
      "Test set: 21182 samples\n",
      "\n",
      "[2/5] Training TabNet...\n",
      "--------------------------------------------------------------------------------\n",
      "Dataset shape: (70606, 59)\n",
      "Signal distribution: {1: 35765, 0: 34841}\n",
      "Training set: 49424 samples\n",
      "  - TabNet Training: 39539 samples\n",
      "  - TabNet Validation: 9885 samples\n",
      "Test set: 21182 samples\n",
      "\n",
      "[2/5] Training TabNet...\n",
      "--------------------------------------------------------------------------------\n"
     ]
    },
    {
     "name": "stderr",
     "output_type": "stream",
     "text": [
      "/home/ardo/HCP_Belle_Cllassification/venv/lib/python3.12/site-packages/pytorch_tabnet/abstract_model.py:82: UserWarning: Device used : cuda\n",
      "  warnings.warn(f\"Device used : {self.device}\")\n"
     ]
    },
    {
     "name": "stdout",
     "output_type": "stream",
     "text": [
      "\n",
      "============================================================\n",
      "🖥️  TABNET DEVICE CONFIGURATION\n",
      "============================================================\n",
      "✅ GPU Available: NVIDIA GeForce GTX 1650\n",
      "   Memory: 4.29 GB\n",
      "   CUDA Version: 12.8\n",
      "   Device: CUDA\n",
      "============================================================\n",
      "\n",
      "epoch 0  | loss: 0.55739 | val_0_auc: 0.89061 | val_0_accuracy: 0.8083  |  0:00:11s\n",
      "epoch 0  | loss: 0.55739 | val_0_auc: 0.89061 | val_0_accuracy: 0.8083  |  0:00:11s\n",
      "epoch 1  | loss: 0.40853 | val_0_auc: 0.9006  | val_0_accuracy: 0.81659 |  0:00:21s\n",
      "epoch 1  | loss: 0.40853 | val_0_auc: 0.9006  | val_0_accuracy: 0.81659 |  0:00:21s\n",
      "epoch 2  | loss: 0.39821 | val_0_auc: 0.89961 | val_0_accuracy: 0.82236 |  0:00:31s\n",
      "epoch 2  | loss: 0.39821 | val_0_auc: 0.89961 | val_0_accuracy: 0.82236 |  0:00:31s\n",
      "epoch 3  | loss: 0.39223 | val_0_auc: 0.90149 | val_0_accuracy: 0.82539 |  0:00:41s\n",
      "epoch 3  | loss: 0.39223 | val_0_auc: 0.90149 | val_0_accuracy: 0.82539 |  0:00:41s\n",
      "epoch 4  | loss: 0.38652 | val_0_auc: 0.90265 | val_0_accuracy: 0.82772 |  0:00:51s\n",
      "epoch 4  | loss: 0.38652 | val_0_auc: 0.90265 | val_0_accuracy: 0.82772 |  0:00:51s\n",
      "epoch 5  | loss: 0.38325 | val_0_auc: 0.90575 | val_0_accuracy: 0.82944 |  0:01:02s\n",
      "epoch 5  | loss: 0.38325 | val_0_auc: 0.90575 | val_0_accuracy: 0.82944 |  0:01:02s\n",
      "epoch 6  | loss: 0.38212 | val_0_auc: 0.90285 | val_0_accuracy: 0.82701 |  0:01:12s\n",
      "epoch 6  | loss: 0.38212 | val_0_auc: 0.90285 | val_0_accuracy: 0.82701 |  0:01:12s\n",
      "epoch 7  | loss: 0.38879 | val_0_auc: 0.9042  | val_0_accuracy: 0.82762 |  0:01:22s\n",
      "epoch 7  | loss: 0.38879 | val_0_auc: 0.9042  | val_0_accuracy: 0.82762 |  0:01:22s\n",
      "epoch 8  | loss: 0.39282 | val_0_auc: 0.90332 | val_0_accuracy: 0.82731 |  0:01:31s\n",
      "epoch 8  | loss: 0.39282 | val_0_auc: 0.90332 | val_0_accuracy: 0.82731 |  0:01:31s\n",
      "epoch 9  | loss: 0.38942 | val_0_auc: 0.90192 | val_0_accuracy: 0.82195 |  0:01:41s\n",
      "epoch 9  | loss: 0.38942 | val_0_auc: 0.90192 | val_0_accuracy: 0.82195 |  0:01:41s\n",
      "epoch 10 | loss: 0.38626 | val_0_auc: 0.90188 | val_0_accuracy: 0.82428 |  0:01:51s\n",
      "epoch 10 | loss: 0.38626 | val_0_auc: 0.90188 | val_0_accuracy: 0.82428 |  0:01:51s\n",
      "epoch 11 | loss: 0.38158 | val_0_auc: 0.90688 | val_0_accuracy: 0.82731 |  0:02:02s\n",
      "epoch 11 | loss: 0.38158 | val_0_auc: 0.90688 | val_0_accuracy: 0.82731 |  0:02:02s\n",
      "epoch 12 | loss: 0.37606 | val_0_auc: 0.91102 | val_0_accuracy: 0.83591 |  0:02:12s\n",
      "epoch 12 | loss: 0.37606 | val_0_auc: 0.91102 | val_0_accuracy: 0.83591 |  0:02:12s\n",
      "epoch 13 | loss: 0.36979 | val_0_auc: 0.91185 | val_0_accuracy: 0.83723 |  0:02:21s\n",
      "epoch 13 | loss: 0.36979 | val_0_auc: 0.91185 | val_0_accuracy: 0.83723 |  0:02:21s\n",
      "epoch 14 | loss: 0.36695 | val_0_auc: 0.91461 | val_0_accuracy: 0.83743 |  0:02:31s\n",
      "epoch 14 | loss: 0.36695 | val_0_auc: 0.91461 | val_0_accuracy: 0.83743 |  0:02:31s\n",
      "epoch 15 | loss: 0.35943 | val_0_auc: 0.91457 | val_0_accuracy: 0.84006 |  0:02:41s\n",
      "epoch 15 | loss: 0.35943 | val_0_auc: 0.91457 | val_0_accuracy: 0.84006 |  0:02:41s\n",
      "epoch 16 | loss: 0.35042 | val_0_auc: 0.92077 | val_0_accuracy: 0.84643 |  0:02:51s\n",
      "epoch 16 | loss: 0.35042 | val_0_auc: 0.92077 | val_0_accuracy: 0.84643 |  0:02:51s\n",
      "epoch 17 | loss: 0.34196 | val_0_auc: 0.92258 | val_0_accuracy: 0.84906 |  0:03:01s\n",
      "epoch 17 | loss: 0.34196 | val_0_auc: 0.92258 | val_0_accuracy: 0.84906 |  0:03:01s\n",
      "epoch 18 | loss: 0.33807 | val_0_auc: 0.91973 | val_0_accuracy: 0.84745 |  0:03:11s\n",
      "epoch 18 | loss: 0.33807 | val_0_auc: 0.91973 | val_0_accuracy: 0.84745 |  0:03:11s\n",
      "epoch 19 | loss: 0.34068 | val_0_auc: 0.9277  | val_0_accuracy: 0.85169 |  0:03:21s\n",
      "epoch 19 | loss: 0.34068 | val_0_auc: 0.9277  | val_0_accuracy: 0.85169 |  0:03:21s\n",
      "epoch 20 | loss: 0.32899 | val_0_auc: 0.92594 | val_0_accuracy: 0.85432 |  0:03:31s\n",
      "epoch 20 | loss: 0.32899 | val_0_auc: 0.92594 | val_0_accuracy: 0.85432 |  0:03:31s\n",
      "epoch 21 | loss: 0.32357 | val_0_auc: 0.92966 | val_0_accuracy: 0.85058 |  0:03:41s\n",
      "epoch 21 | loss: 0.32357 | val_0_auc: 0.92966 | val_0_accuracy: 0.85058 |  0:03:41s\n",
      "epoch 22 | loss: 0.31925 | val_0_auc: 0.93141 | val_0_accuracy: 0.85655 |  0:03:51s\n",
      "epoch 22 | loss: 0.31925 | val_0_auc: 0.93141 | val_0_accuracy: 0.85655 |  0:03:51s\n",
      "epoch 23 | loss: 0.31584 | val_0_auc: 0.93199 | val_0_accuracy: 0.85503 |  0:04:01s\n",
      "epoch 23 | loss: 0.31584 | val_0_auc: 0.93199 | val_0_accuracy: 0.85503 |  0:04:01s\n",
      "epoch 24 | loss: 0.30968 | val_0_auc: 0.93544 | val_0_accuracy: 0.86131 |  0:04:11s\n",
      "epoch 24 | loss: 0.30968 | val_0_auc: 0.93544 | val_0_accuracy: 0.86131 |  0:04:11s\n",
      "epoch 25 | loss: 0.30877 | val_0_auc: 0.9388  | val_0_accuracy: 0.86555 |  0:04:21s\n",
      "epoch 25 | loss: 0.30877 | val_0_auc: 0.9388  | val_0_accuracy: 0.86555 |  0:04:21s\n",
      "epoch 26 | loss: 0.30511 | val_0_auc: 0.93898 | val_0_accuracy: 0.86697 |  0:04:31s\n",
      "epoch 26 | loss: 0.30511 | val_0_auc: 0.93898 | val_0_accuracy: 0.86697 |  0:04:31s\n",
      "epoch 27 | loss: 0.30196 | val_0_auc: 0.93807 | val_0_accuracy: 0.86495 |  0:04:40s\n",
      "epoch 27 | loss: 0.30196 | val_0_auc: 0.93807 | val_0_accuracy: 0.86495 |  0:04:40s\n",
      "epoch 28 | loss: 0.29892 | val_0_auc: 0.93879 | val_0_accuracy: 0.86302 |  0:04:51s\n",
      "epoch 28 | loss: 0.29892 | val_0_auc: 0.93879 | val_0_accuracy: 0.86302 |  0:04:51s\n",
      "epoch 29 | loss: 0.29269 | val_0_auc: 0.93842 | val_0_accuracy: 0.86292 |  0:05:04s\n",
      "epoch 29 | loss: 0.29269 | val_0_auc: 0.93842 | val_0_accuracy: 0.86292 |  0:05:04s\n",
      "epoch 30 | loss: 0.2931  | val_0_auc: 0.94165 | val_0_accuracy: 0.86404 |  0:05:14s\n",
      "epoch 30 | loss: 0.2931  | val_0_auc: 0.94165 | val_0_accuracy: 0.86404 |  0:05:14s\n",
      "epoch 31 | loss: 0.28759 | val_0_auc: 0.9404  | val_0_accuracy: 0.8523  |  0:05:24s\n",
      "epoch 31 | loss: 0.28759 | val_0_auc: 0.9404  | val_0_accuracy: 0.8523  |  0:05:24s\n",
      "epoch 32 | loss: 0.28557 | val_0_auc: 0.94112 | val_0_accuracy: 0.86242 |  0:05:33s\n",
      "epoch 32 | loss: 0.28557 | val_0_auc: 0.94112 | val_0_accuracy: 0.86242 |  0:05:33s\n",
      "epoch 33 | loss: 0.28363 | val_0_auc: 0.94139 | val_0_accuracy: 0.86464 |  0:05:43s\n",
      "epoch 33 | loss: 0.28363 | val_0_auc: 0.94139 | val_0_accuracy: 0.86464 |  0:05:43s\n",
      "epoch 34 | loss: 0.27984 | val_0_auc: 0.94259 | val_0_accuracy: 0.8696  |  0:05:54s\n",
      "epoch 34 | loss: 0.27984 | val_0_auc: 0.94259 | val_0_accuracy: 0.8696  |  0:05:54s\n",
      "epoch 35 | loss: 0.27884 | val_0_auc: 0.94161 | val_0_accuracy: 0.86262 |  0:06:04s\n",
      "epoch 35 | loss: 0.27884 | val_0_auc: 0.94161 | val_0_accuracy: 0.86262 |  0:06:04s\n",
      "epoch 36 | loss: 0.27538 | val_0_auc: 0.94103 | val_0_accuracy: 0.86222 |  0:06:13s\n",
      "epoch 36 | loss: 0.27538 | val_0_auc: 0.94103 | val_0_accuracy: 0.86222 |  0:06:13s\n",
      "epoch 37 | loss: 0.27539 | val_0_auc: 0.94314 | val_0_accuracy: 0.86798 |  0:06:23s\n",
      "epoch 37 | loss: 0.27539 | val_0_auc: 0.94314 | val_0_accuracy: 0.86798 |  0:06:23s\n",
      "epoch 38 | loss: 0.27336 | val_0_auc: 0.94196 | val_0_accuracy: 0.8699  |  0:06:33s\n",
      "epoch 38 | loss: 0.27336 | val_0_auc: 0.94196 | val_0_accuracy: 0.8699  |  0:06:33s\n",
      "epoch 39 | loss: 0.26586 | val_0_auc: 0.94397 | val_0_accuracy: 0.87061 |  0:06:43s\n",
      "epoch 39 | loss: 0.26586 | val_0_auc: 0.94397 | val_0_accuracy: 0.87061 |  0:06:43s\n",
      "epoch 40 | loss: 0.26565 | val_0_auc: 0.94331 | val_0_accuracy: 0.87152 |  0:06:53s\n",
      "epoch 40 | loss: 0.26565 | val_0_auc: 0.94331 | val_0_accuracy: 0.87152 |  0:06:53s\n",
      "epoch 41 | loss: 0.26459 | val_0_auc: 0.94281 | val_0_accuracy: 0.87092 |  0:07:02s\n",
      "epoch 41 | loss: 0.26459 | val_0_auc: 0.94281 | val_0_accuracy: 0.87092 |  0:07:02s\n",
      "epoch 42 | loss: 0.26165 | val_0_auc: 0.94282 | val_0_accuracy: 0.8697  |  0:07:12s\n",
      "epoch 42 | loss: 0.26165 | val_0_auc: 0.94282 | val_0_accuracy: 0.8697  |  0:07:12s\n",
      "epoch 43 | loss: 0.25631 | val_0_auc: 0.94311 | val_0_accuracy: 0.87243 |  0:07:22s\n",
      "epoch 43 | loss: 0.25631 | val_0_auc: 0.94311 | val_0_accuracy: 0.87243 |  0:07:22s\n",
      "epoch 44 | loss: 0.25405 | val_0_auc: 0.94139 | val_0_accuracy: 0.85827 |  0:07:32s\n",
      "epoch 44 | loss: 0.25405 | val_0_auc: 0.94139 | val_0_accuracy: 0.85827 |  0:07:32s\n",
      "epoch 45 | loss: 0.25271 | val_0_auc: 0.94019 | val_0_accuracy: 0.86343 |  0:07:41s\n",
      "epoch 45 | loss: 0.25271 | val_0_auc: 0.94019 | val_0_accuracy: 0.86343 |  0:07:41s\n",
      "epoch 46 | loss: 0.2788  | val_0_auc: 0.94024 | val_0_accuracy: 0.86697 |  0:07:51s\n",
      "epoch 46 | loss: 0.2788  | val_0_auc: 0.94024 | val_0_accuracy: 0.86697 |  0:07:51s\n",
      "epoch 47 | loss: 0.26028 | val_0_auc: 0.93862 | val_0_accuracy: 0.86474 |  0:08:01s\n",
      "epoch 47 | loss: 0.26028 | val_0_auc: 0.93862 | val_0_accuracy: 0.86474 |  0:08:01s\n",
      "epoch 48 | loss: 0.25418 | val_0_auc: 0.94152 | val_0_accuracy: 0.87223 |  0:08:11s\n",
      "epoch 48 | loss: 0.25418 | val_0_auc: 0.94152 | val_0_accuracy: 0.87223 |  0:08:11s\n",
      "epoch 49 | loss: 0.24364 | val_0_auc: 0.94132 | val_0_accuracy: 0.86889 |  0:08:21s\n",
      "Stop training because you reached max_epochs = 50 with best_epoch = 43 and best_val_0_accuracy = 0.87243\n",
      "epoch 49 | loss: 0.24364 | val_0_auc: 0.94132 | val_0_accuracy: 0.86889 |  0:08:21s\n",
      "Stop training because you reached max_epochs = 50 with best_epoch = 43 and best_val_0_accuracy = 0.87243\n"
     ]
    },
    {
     "name": "stderr",
     "output_type": "stream",
     "text": [
      "/home/ardo/HCP_Belle_Cllassification/venv/lib/python3.12/site-packages/pytorch_tabnet/callbacks.py:172: UserWarning: Best weights from best epoch are automatically used!\n",
      "  warnings.warn(wrn_msg)\n"
     ]
    },
    {
     "name": "stdout",
     "output_type": "stream",
     "text": [
      "\n",
      "✓ TabNet training completed!\n",
      "  Best epoch: 43\n"
     ]
    },
    {
     "ename": "KeyError",
     "evalue": "'val_auc'",
     "output_type": "error",
     "traceback": [
      "\u001b[31m---------------------------------------------------------------------------\u001b[39m",
      "\u001b[31mKeyError\u001b[39m                                  Traceback (most recent call last)",
      "\u001b[36mCell\u001b[39m\u001b[36m \u001b[39m\u001b[32mIn[6]\u001b[39m\u001b[32m, line 6\u001b[39m\n\u001b[32m      1\u001b[39m \u001b[38;5;66;03m# Run the comparison\u001b[39;00m\n\u001b[32m      2\u001b[39m \u001b[38;5;66;03m# Option 1: Load pre-trained NN model if available\u001b[39;00m\n\u001b[32m      3\u001b[39m \u001b[38;5;66;03m# results = compare_nn_and_fastbdt(load_nn_model='models/baseline_nn.pt')\u001b[39;00m\n\u001b[32m      4\u001b[39m \n\u001b[32m      5\u001b[39m \u001b[38;5;66;03m# Option 2: Train from scratch (will take a few minutes)\u001b[39;00m\n\u001b[32m----> \u001b[39m\u001b[32m6\u001b[39m results = \u001b[43mcompare_tabnet_and_fastbdt\u001b[49m\u001b[43m(\u001b[49m\u001b[43m)\u001b[49m\n\u001b[32m      8\u001b[39m \u001b[38;5;28mprint\u001b[39m(\u001b[33m\"\u001b[39m\u001b[38;5;130;01m\\n\u001b[39;00m\u001b[33m✅ Comparison completed successfully!\u001b[39m\u001b[33m\"\u001b[39m)\n",
      "\u001b[36mCell\u001b[39m\u001b[36m \u001b[39m\u001b[32mIn[5]\u001b[39m\u001b[32m, line 82\u001b[39m, in \u001b[36mcompare_tabnet_and_fastbdt\u001b[39m\u001b[34m(data_path, plot_dir, load_tabnet_model)\u001b[39m\n\u001b[32m     68\u001b[39m \u001b[38;5;28mprint\u001b[39m(\u001b[33m\"\u001b[39m\u001b[33m-\u001b[39m\u001b[33m\"\u001b[39m * \u001b[32m80\u001b[39m)\n\u001b[32m     70\u001b[39m tabnet_clf = TabNetClassifier(\n\u001b[32m     71\u001b[39m     n_d=\u001b[32m64\u001b[39m,\n\u001b[32m     72\u001b[39m     n_a=\u001b[32m64\u001b[39m,\n\u001b[32m   (...)\u001b[39m\u001b[32m     79\u001b[39m     patience=\u001b[32m10\u001b[39m\n\u001b[32m     80\u001b[39m )\n\u001b[32m---> \u001b[39m\u001b[32m82\u001b[39m \u001b[43mtabnet_clf\u001b[49m\u001b[43m.\u001b[49m\u001b[43mfit\u001b[49m\u001b[43m(\u001b[49m\u001b[43mX_train_tabnet\u001b[49m\u001b[43m,\u001b[49m\u001b[43m \u001b[49m\u001b[43my_train_tabnet\u001b[49m\u001b[43m,\u001b[49m\u001b[43m \u001b[49m\u001b[43mX_val_tabnet\u001b[49m\u001b[43m,\u001b[49m\u001b[43m \u001b[49m\u001b[43my_val_tabnet\u001b[49m\u001b[43m,\u001b[49m\u001b[43m \u001b[49m\u001b[43mverbose\u001b[49m\u001b[43m=\u001b[49m\u001b[38;5;28;43;01mTrue\u001b[39;49;00m\u001b[43m)\u001b[49m\n\u001b[32m     84\u001b[39m \u001b[38;5;66;03m# TabNet Predictions\u001b[39;00m\n\u001b[32m     85\u001b[39m y_pred_tabnet_proba = tabnet_clf.predict_proba(X_test)\n",
      "\u001b[36mFile \u001b[39m\u001b[32m~/HCP_Belle_Cllassification/src/tabnet_wrapper.py:133\u001b[39m, in \u001b[36mTabNetClassifier.fit\u001b[39m\u001b[34m(self, X_train, y_train, X_val, y_val, verbose)\u001b[39m\n\u001b[32m    131\u001b[39m     \u001b[38;5;28;01mif\u001b[39;00m eval_set:\n\u001b[32m    132\u001b[39m         \u001b[38;5;28mprint\u001b[39m(\u001b[33mf\u001b[39m\u001b[33m\"\u001b[39m\u001b[33m  Best epoch: \u001b[39m\u001b[38;5;132;01m{\u001b[39;00m\u001b[38;5;28mself\u001b[39m.model.best_epoch\u001b[38;5;132;01m}\u001b[39;00m\u001b[33m\"\u001b[39m)\n\u001b[32m--> \u001b[39m\u001b[32m133\u001b[39m         \u001b[38;5;28mprint\u001b[39m(\u001b[33mf\u001b[39m\u001b[33m\"\u001b[39m\u001b[33m  Best validation AUC: \u001b[39m\u001b[38;5;132;01m{\u001b[39;00m\u001b[38;5;28mmax\u001b[39m(\u001b[38;5;28;43mself\u001b[39;49m\u001b[43m.\u001b[49m\u001b[43mhistory\u001b[49m\u001b[43m[\u001b[49m\u001b[33;43m'\u001b[39;49m\u001b[33;43mval_auc\u001b[39;49m\u001b[33;43m'\u001b[39;49m\u001b[43m]\u001b[49m)\u001b[38;5;132;01m:\u001b[39;00m\u001b[33m.4f\u001b[39m\u001b[38;5;132;01m}\u001b[39;00m\u001b[33m\"\u001b[39m)\n\u001b[32m    135\u001b[39m \u001b[38;5;28;01mreturn\u001b[39;00m \u001b[38;5;28mself\u001b[39m\n",
      "\u001b[36mFile \u001b[39m\u001b[32m~/HCP_Belle_Cllassification/venv/lib/python3.12/site-packages/pytorch_tabnet/callbacks.py:233\u001b[39m, in \u001b[36mHistory.__getitem__\u001b[39m\u001b[34m(self, name)\u001b[39m\n\u001b[32m    232\u001b[39m \u001b[38;5;28;01mdef\u001b[39;00m\u001b[38;5;250m \u001b[39m\u001b[34m__getitem__\u001b[39m(\u001b[38;5;28mself\u001b[39m, name):\n\u001b[32m--> \u001b[39m\u001b[32m233\u001b[39m     \u001b[38;5;28;01mreturn\u001b[39;00m \u001b[38;5;28;43mself\u001b[39;49m\u001b[43m.\u001b[49m\u001b[43mhistory\u001b[49m\u001b[43m[\u001b[49m\u001b[43mname\u001b[49m\u001b[43m]\u001b[49m\n",
      "\u001b[31mKeyError\u001b[39m: 'val_auc'"
     ]
    }
   ],
   "source": [
    "# Run the comparison\n",
    "# Option 1: Load pre-trained NN model if available\n",
    "# results = compare_nn_and_fastbdt(load_nn_model='models/baseline_nn.pt')\n",
    "\n",
    "# Option 2: Train from scratch (will take a few minutes)\n",
    "results = compare_tabnet_and_fastbdt()\n",
    "\n",
    "print(\"\\n✅ Comparison completed successfully!\")"
   ]
  },
  {
   "cell_type": "code",
   "execution_count": null,
   "id": "3cf5c290",
   "metadata": {},
   "outputs": [
    {
     "name": "stdout",
     "output_type": "stream",
     "text": [
      "================================================================================\n",
      "🖥️  HARDWARE CHECK\n",
      "================================================================================\n",
      "PyTorch version: 2.9.0+cu128\n",
      "CUDA available: True\n",
      "✅ GPU detected: NVIDIA GeForce GTX 1650\n",
      "   GPU Memory: 4.29 GB\n",
      "   CUDA version: 12.8\n",
      "\n",
      "   TabNet will use GPU for training (much faster!)\n",
      "================================================================================\n",
      "✅ GPU detected: NVIDIA GeForce GTX 1650\n",
      "   GPU Memory: 4.29 GB\n",
      "   CUDA version: 12.8\n",
      "\n",
      "   TabNet will use GPU for training (much faster!)\n",
      "================================================================================\n"
     ]
    }
   ],
   "source": [
    "# Check GPU availability before running comparison\n",
    "import torch\n",
    "\n",
    "print(\"=\"*80)\n",
    "print(\"🖥️  HARDWARE CHECK\")\n",
    "print(\"=\"*80)\n",
    "print(f\"PyTorch version: {torch.__version__}\")\n",
    "print(f\"CUDA available: {torch.cuda.is_available()}\")\n",
    "if torch.cuda.is_available():\n",
    "    print(f\"✅ GPU detected: {torch.cuda.get_device_name(0)}\")\n",
    "    print(f\"   GPU Memory: {torch.cuda.get_device_properties(0).total_memory / 1e9:.2f} GB\")\n",
    "    print(f\"   CUDA version: {torch.version.cuda}\")\n",
    "    print(\"\\n   TabNet will use GPU for training (much faster!)\")\n",
    "else:\n",
    "    print(\"⚠️  No GPU detected - TabNet will use CPU\")\n",
    "    print(\"   Expected training time: 5-15 minutes\")\n",
    "    print(\"\\n   To use GPU, ensure:\")\n",
    "    print(\"   1. CUDA-capable GPU is installed\")\n",
    "    print(\"   2. NVIDIA drivers are installed\")\n",
    "    print(\"   3. PyTorch with CUDA support is installed\")\n",
    "print(\"=\"*80)"
   ]
  }
 ],
 "metadata": {
  "kernelspec": {
   "display_name": "venv",
   "language": "python",
   "name": "python3"
  },
  "language_info": {
   "codemirror_mode": {
    "name": "ipython",
    "version": 3
   },
   "file_extension": ".py",
   "mimetype": "text/x-python",
   "name": "python",
   "nbconvert_exporter": "python",
   "pygments_lexer": "ipython3",
   "version": "3.12.3"
  }
 },
 "nbformat": 4,
 "nbformat_minor": 5
}
