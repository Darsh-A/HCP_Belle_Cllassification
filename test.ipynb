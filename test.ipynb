{
 "cells": [
  {
   "cell_type": "code",
   "execution_count": null,
   "id": "b79b9d46",
   "metadata": {},
   "outputs": [],
   "source": [
    "# --- Enable autoreload for dev---\n",
    "%load_ext autoreload\n",
    "%autoreload 2\n",
    "\n",
    "import sys, os\n",
    "src_path = os.path.join(os.getcwd(), \"src\")\n",
    "if src_path not in sys.path:\n",
    "    sys.path.insert(0, src_path)\n",
    "\n",
    "\n",
    "from data_anan import DataPreprocessing, DataCheck, DataAnalysis, DataVisualization\n"
   ]
  },
  {
   "cell_type": "code",
   "execution_count": null,
   "id": "ecb26dea",
   "metadata": {},
   "outputs": [],
   "source": [
    "# import importlib\n",
    "# import data_anan\n",
    "# importlib.reload(data_anan)\n",
    "\n",
    "# from data_anan import *"
   ]
  },
  {
   "cell_type": "code",
   "execution_count": null,
   "id": "4c285c76",
   "metadata": {},
   "outputs": [],
   "source": [
    "df = DataPreprocessing.data_import('data/data_hep.csv')\n",
    "# print(f\"Data shape: {df.shape}\")"
   ]
  },
  {
   "cell_type": "code",
   "execution_count": null,
   "id": "897e0298",
   "metadata": {},
   "outputs": [],
   "source": [
    "DataCheck.data_check(df)"
   ]
  },
  {
   "cell_type": "code",
   "execution_count": null,
   "id": "0dbb34a6",
   "metadata": {},
   "outputs": [],
   "source": [
    "# Example usage: Reduce features based on correlation\n",
    "reduced_df = DataAnalysis.data_reduction_correlation(df, threshold=0.9)\n",
    "print(f\"Original features: {df.shape[1]}\")\n",
    "print(f\"Reduced features: {reduced_df.shape[1]}\")\n",
    "reduced_df.shape\n"
   ]
  },
  {
   "cell_type": "code",
   "execution_count": null,
   "id": "18ef5ef6",
   "metadata": {},
   "outputs": [],
   "source": [
    "DataAnalysis.binary_classf_preview(df)"
   ]
  },
  {
   "cell_type": "code",
   "execution_count": null,
   "id": "68e8fa73",
   "metadata": {},
   "outputs": [],
   "source": [
    "DataVisualization.feature_distribution_by_type(df, full_df=False)"
   ]
  }
 ],
 "metadata": {
  "kernelspec": {
   "display_name": "venv",
   "language": "python",
   "name": "python3"
  },
  "language_info": {
   "codemirror_mode": {
    "name": "ipython",
    "version": 3
   },
   "file_extension": ".py",
   "mimetype": "text/x-python",
   "name": "python",
   "nbconvert_exporter": "python",
   "pygments_lexer": "ipython3",
   "version": "3.12.2"
  }
 },
 "nbformat": 4,
 "nbformat_minor": 5
}
